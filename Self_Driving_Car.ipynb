{
 "cells": [
  {
   "cell_type": "markdown",
   "metadata": {},
   "source": [
    "<img src=\"https://i.ytimg.com/vi/6k9gb2elXvo/maxresdefault.jpg\" width=\"1200\">"
   ]
  },
  {
   "cell_type": "markdown",
   "metadata": {},
   "source": [
    "#  1. BUSINESS PROBLEM\n",
    "## 1.1 Description\n",
    "<p>An autonomous car is a vehicle that can guide itself without human conduction. It is also known as a driverless car, robot car, self-driving car or autonomous vehicle. ... Autonomous cars use various technologies- they may use GPS sensing knowledge for navigation, and various sensors to avoid collisions. There are many companies playing in this space- Google, Nvidia, Uber, Waymo are some of them.</p>\n",
    "<p>\n",
    "Deep Learning is one of ways to make autonomous driving possible. This case study will use Nvidia's “End to End Learning for Self-Driving Cars” network.\n",
    "</p>\n",
    "\n",
    "## 1.2 Problem Statement\n",
    "- We are going to train a model that predict how the human was driving the car(steering angles)- essentially clones the driver’s behaviour to different road scenarios, given a series of front-dash images for 25 minutes."
   ]
  },
  {
   "cell_type": "markdown",
   "metadata": {},
   "source": [
    "# 2. DEEP LEARNING PROBLEM\n",
    "## 2.1 Data\n",
    "### 2.1.1 Data Overview\n",
    "<b>Source :</b> https://github.com/SullyChen/driving-datasets/\n",
    "<p> \n",
    "- Data will be in a file driving_dataset <br>\n",
    "- It consits of approximately 45k images(25 minutes),2.2 GB. <br>\n",
    "- Data format is as follows: filename.jpg angle<br>\n",
    "</p>\n",
    "\n",
    "###  2.1.2 Example Data point\n",
    "\n",
    "<img src=\"https://cdn-images-1.medium.com/max/400/1*K23ZsauMM3TGyawi-Vc5PA.jpeg\"  width=\"500\">\n",
    "<br>\n",
    "\n",
    "16466.jpg -1.610000   \n",
    "16467.jpg -1.710000  \n",
    "16468.jpg -1.710000  \n",
    "16469.jpg -1.920000  \n",
    "16470.jpg -2.120000  \n",
    "16471.jpg  0.000000  \n",
    "\n",
    "## 2.2 Mapping the real world problem to an DL problem  \n",
    "### 2.2.1 Type of Problem\n",
    "<p> It is a <b>regression</b> problem, for a given front-dash images of road we need to predict the steering angle of car. </p>\n",
    "\n",
    "### 2.2.2 Performance Metric\n",
    "* MSE(Mean Squared Error)"
   ]
  },
  {
   "cell_type": "markdown",
   "metadata": {},
   "source": [
    "# 3. EXPLORATORY DATA ANALYSIS"
   ]
  },
  {
   "cell_type": "code",
   "execution_count": 1,
   "metadata": {},
   "outputs": [
    {
     "name": "stderr",
     "output_type": "stream",
     "text": [
      "D:\\Anaconda\\lib\\site-packages\\h5py\\__init__.py:36: FutureWarning: Conversion of the second argument of issubdtype from `float` to `np.floating` is deprecated. In future, it will be treated as `np.float64 == np.dtype(float).type`.\n",
      "  from ._conv import register_converters as _register_converters\n",
      "Using TensorFlow backend.\n"
     ]
    }
   ],
   "source": [
    "from __future__ import division\n",
    "\n",
    "import numpy as np\n",
    "import pandas as pd\n",
    "import scipy as sc\n",
    "import matplotlib.pyplot as plt\n",
    "import os\n",
    "import random\n",
    "from subprocess import call\n",
    "import math\n",
    "from datetime import datetime as dt\n",
    "\n",
    "import cv2\n",
    "import tensorflow as tf\n",
    "from tensorflow.core.protobuf import saver_pb2\n",
    "\n",
    "from keras.utils import np_utils\n",
    "from keras.preprocessing import sequence\n",
    "from keras.preprocessing.text import Tokenizer\n",
    "from keras.models import Sequential\n",
    "from keras.layers import Dense,Activation,Dropout\n",
    "from keras.layers.normalization import BatchNormalization\n",
    "from keras.layers import LSTM,TimeDistributed,Reshape\n",
    "from keras.layers.embeddings import Embedding\n",
    "from keras.models import load_model\n",
    "from keras.layers import Conv2D, MaxPooling1D,Flatten\n",
    "\n",
    "import warnings\n",
    "#import joblib"
   ]
  },
  {
   "cell_type": "markdown",
   "metadata": {},
   "source": [
    "## 3.1 Loading the Data"
   ]
  },
  {
   "cell_type": "code",
   "execution_count": 2,
   "metadata": {},
   "outputs": [],
   "source": [
    "DATA_FOLDER = \"driving_dataset/\"\n",
    "TRAINFILE = os.path.join(DATA_FOLDER,\"data.txt\")"
   ]
  },
  {
   "cell_type": "code",
   "execution_count": 3,
   "metadata": {},
   "outputs": [
    {
     "name": "stdout",
     "output_type": "stream",
     "text": [
      "Time taken to run this cell : 0:00:00.318442\n"
     ]
    }
   ],
   "source": [
    "X_images = []\n",
    "Y_strangles = []\n",
    "\n",
    "start = dt.now()\n",
    "with open(TRAINFILE) as f:\n",
    "    for line in f:\n",
    "        X_images.append(DATA_FOLDER+line.split()[0])\n",
    "        Y_strangles.append(float(line.split()[1]) * sc.pi/180)\n",
    "    print(\"Time taken to run this cell :\",dt.now() - start)"
   ]
  },
  {
   "cell_type": "code",
   "execution_count": 4,
   "metadata": {},
   "outputs": [
    {
     "name": "stdout",
     "output_type": "stream",
     "text": [
      "Number of front-camera images in dataset : 45406\n"
     ]
    }
   ],
   "source": [
    "print(\"Number of front-camera images in dataset :\",len(X_images))"
   ]
  },
  {
   "cell_type": "markdown",
   "metadata": {},
   "source": [
    "## 3.2 Train and Test Split Ratio(70:30)"
   ]
  },
  {
   "cell_type": "code",
   "execution_count": 5,
   "metadata": {},
   "outputs": [
    {
     "name": "stdout",
     "output_type": "stream",
     "text": [
      "Number of Images in Training set : 31784\n",
      "Number of Images in Test set : 13622\n"
     ]
    }
   ],
   "source": [
    "split_index = int(len(Y_strangles) * 0.7)\n",
    "\n",
    "X_train = X_images[:split_index]\n",
    "y_train = Y_strangles[:split_index]\n",
    "\n",
    "X_test = X_images[split_index:]\n",
    "y_test = Y_strangles[split_index:]\n",
    "\n",
    "print(\"Number of Images in Training set :\",len(X_train))\n",
    "print(\"Number of Images in Test set :\",len(X_test))"
   ]
  },
  {
   "cell_type": "markdown",
   "metadata": {},
   "source": [
    "## 3.3 Distribution of Steering Angles in Train and Test"
   ]
  },
  {
   "cell_type": "code",
   "execution_count": 6,
   "metadata": {},
   "outputs": [
    {
     "data": {
      "image/png": "[encoded data removed]",
      "text/plain": [
       "<Figure size 720x432 with 1 Axes>"
      ]
     },
     "metadata": {},
     "output_type": "display_data"
    }
   ],
   "source": [
    "plt.figure(figsize = (10,6))\n",
    "plt.hist(y_train, bins = 50, density = 1, color ='red', histtype = \"step\", label = \"Train SteeringAngle\")\n",
    "plt.hist(y_test, bins = 50, density = 1, color ='green', histtype = \"step\", label = \"Test SteeringAngle\")\n",
    "plt.title(\"Distribution of Steering Angles\", fontsize = 18 ,fontweight = \"bold\")\n",
    "plt.xlabel(\"Steering Angle(In radians)\", fontsize = 14)\n",
    "plt.legend(fontsize = 14)\n",
    "plt.grid()\n",
    "plt.show()"
   ]
  },
  {
   "cell_type": "markdown",
   "metadata": {},
   "source": [
    "<b>Observations</b>\n",
    "-  The training and test data is dominated by 0-steering angle most of the times(may be due to straight roads).\n",
    "-  There are some left and right steering angles as well which could be due to turnings in roads.\n",
    "-  Distribution of both and test data are almost similar."
   ]
  },
  {
   "cell_type": "markdown",
   "metadata": {},
   "source": [
    "# 4. BATCH LOAD OF DATASET"
   ]
  },
  {
   "cell_type": "code",
   "execution_count": 7,
   "metadata": {},
   "outputs": [],
   "source": [
    "train_batch_pointer = 0\n",
    "test_batch_pointer = 0\n",
    "\n",
    "#Batch Load for training data\n",
    "def LoadTrainBatch(batch_size):\n",
    "    global train_batch_pointer\n",
    "    x_out = []\n",
    "    y_out = []\n",
    "    \n",
    "    for i in range(0, batch_size):\n",
    "        x_out.append(sc.misc.imresize(sc.misc.imread(X_train[(train_batch_pointer + i) % len(X_train)])[-150:], [66, 200]) / 255.0)\n",
    "        y_out.append([y_train[(train_batch_pointer + i) % len(y_train)]])\n",
    "    train_batch_pointer += batch_size\n",
    "    \n",
    "    return x_out, y_out\n",
    "\n",
    "#Batch Load for test data\n",
    "def LoadTestBatch(batch_size):\n",
    "    global test_batch_pointer\n",
    "    x_out = []\n",
    "    y_out = []\n",
    "    \n",
    "    for i in range(0, batch_size):\n",
    "        x_out.append(sc.misc.imresize(sc.misc.imread(X_test[(test_batch_pointer + i) % len(X_test)])[-150:], [66, 200]) / 255.0)\n",
    "        y_out.append([y_test[(test_batch_pointer + i) % len(y_test)]])\n",
    "    test_batch_pointer += batch_size\n",
    "    \n",
    "    return x_out, y_out"
   ]
  },
  {
   "cell_type": "markdown",
   "metadata": {},
   "source": [
    "# 5. BUILDING THE MODEL\n",
    "\n",
    "<img src=\"https://cdn-images-1.medium.com/max/1600/1*DvkLcBclo6D7q_vF94OEag.png\" width=\"500\">\n",
    "\n",
    "We will use Nvidia’s Convolutional Neural Network(Pilot-Net Architecture).  \n",
    "The network consists of 9 layers- \n",
    "-  a normalization layer\n",
    "-  5 convolutional layers and \n",
    "-  3 fully connected layers. "
   ]
  },
  {
   "cell_type": "markdown",
   "metadata": {},
   "source": [
    "# 6. TRAINING THE MODEL"
   ]
  },
  {
   "cell_type": "markdown",
   "metadata": {},
   "source": [
    "## 6.1 Training Model 1\n",
    "-  Train-Test Split = 70:30\n",
    "-  L2_NormConst = 0.001\n",
    "-  Optimizer = ADAM\n",
    "-  learning_rate = 1e-3\n",
    "-  batch_size = 100\n",
    "-  Dropout Rate = 0.5\n",
    "-  Activation Unit in output layer = Linear"
   ]
  },
  {
   "cell_type": "markdown",
   "metadata": {},
   "source": [
    "<b>Model 1 Architecture:</b>"
   ]
  },
  {
   "cell_type": "code",
   "execution_count": 8,
   "metadata": {},
   "outputs": [],
   "source": [
    "def weight_variable(shape):\n",
    "    w_initial = tf.truncated_normal(shape, stddev = 0.1)\n",
    "    return tf.Variable(w_initial)\n",
    "\n",
    "def bias_variable(shape):\n",
    "    b_initial = tf.constant(0.1, shape = shape)\n",
    "    return tf.Variable(b_initial)\n",
    "\n",
    "def Conv2D(x, W, stride):\n",
    "    conv_layer = tf.nn.conv2d(x, W, strides = [1,stride,stride,1], padding = 'VALID')\n",
    "    return conv_layer\n",
    "\n",
    "X = tf.placeholder(tf.float32, shape = [None, 66, 200, 3])\n",
    "y = tf.placeholder(tf.float32, shape = [None, 1])\n",
    "\n",
    "#First Convolutional Layer\n",
    "W_conv1 = weight_variable([5, 5 ,3 ,24])\n",
    "b_conv1 = bias_variable([24])\n",
    "h_conv1 = tf.nn.relu(Conv2D(X, W_conv1, 2) + b_conv1)\n",
    "\n",
    "#Second Convolutional Layer\n",
    "W_conv2 = weight_variable([5, 5 ,24 ,36])\n",
    "b_conv2 = bias_variable([36])\n",
    "h_conv2 = tf.nn.relu(Conv2D(h_conv1, W_conv2, 2) + b_conv2)\n",
    "\n",
    "#Third Convolutional Layer\n",
    "W_conv3 = weight_variable([5, 5 ,36 ,48])\n",
    "b_conv3 = bias_variable([48])\n",
    "h_conv3 = tf.nn.relu(Conv2D(h_conv2, W_conv3, 2) + b_conv3)\n",
    "\n",
    "#Fourth Convolutional Layer\n",
    "W_conv4 = weight_variable([3, 3 ,48 ,64])\n",
    "b_conv4 = bias_variable([64])\n",
    "h_conv4 = tf.nn.relu(Conv2D(h_conv3, W_conv4, 1) + b_conv4)\n",
    "\n",
    "#Fifth Convolutional Layer\n",
    "W_conv5 = weight_variable([3, 3 ,64 ,64])\n",
    "b_conv5 = bias_variable([64])\n",
    "h_conv5 = tf.nn.relu(Conv2D(h_conv4, W_conv5, 1) + b_conv5)\n",
    "\n",
    "#Flattening Layer\n",
    "W_flat = weight_variable([1152,1164])\n",
    "b_flat = bias_variable([1164])\n",
    "\n",
    "h_conv5_flat = tf.reshape(h_conv5, [-1,1152])\n",
    "h_flat = tf.nn.relu(tf.matmul(h_conv5_flat, W_flat) + b_flat)\n",
    "\n",
    "keep_prob = tf.placeholder(tf.float32)\n",
    "h_flat_drop = tf.nn.dropout(h_flat, keep_prob)\n",
    "\n",
    "#First Fully Connected Layer\n",
    "W_fc1 = weight_variable([1164,100])\n",
    "b_fc1 = bias_variable([100])\n",
    "\n",
    "h_fc1 = tf.nn.relu(tf.matmul(h_flat_drop, W_fc1) + b_fc1)\n",
    "h_fc1_drop = tf.nn.dropout(h_fc1, keep_prob)\n",
    "\n",
    "#Second Fully Connected Layer\n",
    "W_fc2 = weight_variable([100,50])\n",
    "b_fc2 = bias_variable([50])\n",
    "\n",
    "h_fc2 = tf.nn.relu(tf.matmul(h_fc1_drop, W_fc2) + b_fc2)\n",
    "h_fc2_drop = tf.nn.dropout(h_fc2, keep_prob)\n",
    "\n",
    "#Third Fully Connected Layer\n",
    "W_fc3 = weight_variable([50,10])\n",
    "b_fc3 = bias_variable([10])\n",
    "\n",
    "h_fc3 = tf.nn.relu(tf.matmul(h_fc2_drop, W_fc3) + b_fc3)\n",
    "h_fc3_drop = tf.nn.dropout(h_fc3, keep_prob)\n",
    "\n",
    "#Output Layer(Linear Activation)\n",
    "W_out = weight_variable([10,1])\n",
    "b_out = bias_variable([1])\n",
    "y_pred = tf.multiply(tf.identity(tf.matmul(h_fc3_drop, W_out) + b_out),2)"
   ]
  },
  {
   "cell_type": "markdown",
   "metadata": {},
   "source": [
    "<b>Training of Model 1:</b>"
   ]
  },
  {
   "cell_type": "code",
   "execution_count": 11,
   "metadata": {
    "scrolled": true
   },
   "outputs": [
    {
     "name": "stdout",
     "output_type": "stream",
     "text": [
      "Epoch: 0, Train-Loss: : 15.4551, Test-Loss(MSE): 15.0137\n",
      "Model saved in file: model/final_model.ckpt\n",
      "Epoch: 1, Train-Loss: : 7.77524, Test-Loss(MSE): 7.63696\n",
      "Model saved in file: model/final_model.ckpt\n",
      "Epoch: 2, Train-Loss: : 5.52816, Test-Loss(MSE): 4.90996\n",
      "Model saved in file: model/final_model.ckpt\n",
      "Epoch: 3, Train-Loss: : 3.55445, Test-Loss(MSE): 3.5633\n",
      "Model saved in file: model/final_model.ckpt\n",
      "Epoch: 4, Train-Loss: : 3.36081, Test-Loss(MSE): 2.68381\n",
      "Model saved in file: model/final_model.ckpt\n",
      "Epoch: 5, Train-Loss: : 2.28151, Test-Loss(MSE): 2.14008\n",
      "Model saved in file: model/final_model.ckpt\n",
      "Epoch: 6, Train-Loss: : 2.03299, Test-Loss(MSE): 1.9023\n",
      "Model saved in file: model/final_model.ckpt\n",
      "Epoch: 7, Train-Loss: : 2.19711, Test-Loss(MSE): 1.63626\n",
      "Model saved in file: model/final_model.ckpt\n",
      "Epoch: 8, Train-Loss: : 1.6281, Test-Loss(MSE): 1.44813\n",
      "Model saved in file: model/final_model.ckpt\n",
      "Epoch: 9, Train-Loss: : 1.96447, Test-Loss(MSE): 1.42598\n",
      "Model saved in file: model/final_model.ckpt\n",
      "Epoch: 10, Train-Loss: : 1.34008, Test-Loss(MSE): 1.30111\n",
      "Model saved in file: model/final_model.ckpt\n",
      "Epoch: 11, Train-Loss: : 1.90022, Test-Loss(MSE): 1.20123\n",
      "Model saved in file: model/final_model.ckpt\n",
      "Epoch: 12, Train-Loss: : 1.32364, Test-Loss(MSE): 1.24904\n",
      "Model saved in file: model/final_model.ckpt\n",
      "Epoch: 13, Train-Loss: : 1.34655, Test-Loss(MSE): 1.1652\n",
      "Model saved in file: model/final_model.ckpt\n",
      "Epoch: 14, Train-Loss: : 1.70421, Test-Loss(MSE): 1.10482\n",
      "Model saved in file: model/final_model.ckpt\n",
      "Epoch: 15, Train-Loss: : 1.26876, Test-Loss(MSE): 1.17385\n",
      "Model saved in file: model/final_model.ckpt\n",
      "Epoch: 16, Train-Loss: : 1.70089, Test-Loss(MSE): 1.11428\n",
      "Model saved in file: model/final_model.ckpt\n",
      "Epoch: 17, Train-Loss: : 1.14664, Test-Loss(MSE): 1.06742\n",
      "Model saved in file: model/final_model.ckpt\n",
      "Epoch: 18, Train-Loss: : 1.69981, Test-Loss(MSE): 1.14931\n",
      "Model saved in file: model/final_model.ckpt\n",
      "Epoch: 19, Train-Loss: : 1.2839, Test-Loss(MSE): 1.0998\n",
      "Model saved in file: model/final_model.ckpt\n",
      "Epoch: 20, Train-Loss: : 1.27674, Test-Loss(MSE): 1.0557\n",
      "Model saved in file: model/final_model.ckpt\n",
      "Epoch: 21, Train-Loss: : 1.65689, Test-Loss(MSE): 1.14608\n",
      "Model saved in file: model/final_model.ckpt\n",
      "Epoch: 22, Train-Loss: : 1.23654, Test-Loss(MSE): 1.09457\n",
      "Model saved in file: model/final_model.ckpt\n",
      "Epoch: 23, Train-Loss: : 1.6836, Test-Loss(MSE): 1.05572\n",
      "Model saved in file: model/final_model.ckpt\n",
      "Epoch: 24, Train-Loss: : 1.13489, Test-Loss(MSE): 1.14365\n",
      "Model saved in file: model/final_model.ckpt\n",
      "Epoch: 25, Train-Loss: : 1.67954, Test-Loss(MSE): 1.095\n",
      "Model saved in file: model/final_model.ckpt\n",
      "Epoch: 26, Train-Loss: : 1.29383, Test-Loss(MSE): 1.05496\n",
      "Model saved in file: model/final_model.ckpt\n",
      "Epoch: 27, Train-Loss: : 1.2748, Test-Loss(MSE): 1.14399\n",
      "Model saved in file: model/final_model.ckpt\n",
      "Epoch: 28, Train-Loss: : 1.65585, Test-Loss(MSE): 1.09443\n",
      "Model saved in file: model/final_model.ckpt\n",
      "Epoch: 29, Train-Loss: : 1.2324, Test-Loss(MSE): 1.05535\n",
      "Model saved in file: model/final_model.ckpt\n",
      "Time taken to train the model : 4:18:24.591343\n"
     ]
    }
   ],
   "source": [
    "warnings.filterwarnings(\"ignore\")\n",
    "\n",
    "LOGDIR = 'model'\n",
    "\n",
    "sess = tf.InteractiveSession()\n",
    "\n",
    "#constant for L2 Regularization\n",
    "L2_NormConst = 0.001\n",
    "\n",
    "train_vars = tf.trainable_variables()\n",
    "\n",
    "# total-loss = mse + l2-reg\n",
    "loss = tf.reduce_mean(tf.square(tf.subtract(y,y_pred))) + tf.add_n([tf.nn.l2_loss(v) for v in train_vars]) * L2_NormConst\n",
    "\n",
    "#Learning-rate = 0.001\n",
    "optimizer = tf.train.AdamOptimizer(learning_rate = 1e-3).minimize(loss)\n",
    "sess.run(tf.global_variables_initializer())\n",
    "\n",
    "saver = tf.train.Saver(write_version = saver_pb2.SaverDef.V2)\n",
    "\n",
    "\n",
    "epochs = 30\n",
    "batch_size = 100\n",
    "train_loss = []\n",
    "test_loss = []\n",
    "\n",
    "start = dt.now()\n",
    "for epoch in range(epochs):\n",
    "    train_avg_loss = 0\n",
    "    test_avg_loss = 0\n",
    "    \n",
    "    for i in range(int(len(X_images)/batch_size)):\n",
    "        \n",
    "        X_train_batch, y_train_batch = LoadTrainBatch(batch_size)\n",
    "        optimizer.run(feed_dict = {X: X_train_batch, y: y_train_batch, keep_prob: 0.5})\n",
    "        tr_loss = loss.eval(feed_dict = {X: X_train_batch, y: y_train_batch, keep_prob: 1.0})\n",
    "        train_avg_loss += (tr_loss/batch_size)\n",
    "        \n",
    "        X_test_batch, y_test_batch = LoadTestBatch(batch_size)\n",
    "        val_loss = loss.eval(feed_dict = {X: X_test_batch, y: y_test_batch, keep_prob: 1.0})\n",
    "        test_avg_loss += (val_loss/batch_size)\n",
    "        \n",
    "        if i % batch_size == 0:\n",
    "            if not os.path.exists(LOGDIR):\n",
    "                os.makedirs(LOGDIR)\n",
    "            checkpoint_path = os.path.join(LOGDIR, \"final_model.ckpt\")\n",
    "            filename = saver.save(sess, checkpoint_path)\n",
    "            \n",
    "    print(\"Epoch: %d, Train-Loss: : %g, Test-Loss(MSE): %g\" % (epoch, train_avg_loss, test_avg_loss))\n",
    "    print(\"Model saved in file: %s\" % filename)\n",
    "    \n",
    "    train_loss.append(train_avg_loss)\n",
    "    test_loss.append(test_avg_loss)\n",
    "    \n",
    "print(\"Time taken to train the model :\",dt.now() - start)"
   ]
  },
  {
   "cell_type": "markdown",
   "metadata": {},
   "source": [
    "<b>Plot between Loss vs Epochs:</b>"
   ]
  },
  {
   "cell_type": "code",
   "execution_count": 13,
   "metadata": {
    "scrolled": false
   },
   "outputs": [
    {
     "data": {
      "image/png": "[encoded data removed]",
      "text/plain": [
       "<Figure size 720x432 with 1 Axes>"
      ]
     },
     "metadata": {},
     "output_type": "display_data"
    }
   ],
   "source": [
    "plt.figure(figsize=(10,6))\n",
    "plt.plot(range(epochs), train_loss, 'b', label = \"Training Loss\")\n",
    "plt.plot(range(epochs), test_loss, 'r', label = \"Test Loss\")\n",
    "plt.title(\"Loss vs Epochs\",fontsize = 18, fontweight = \"bold\")\n",
    "plt.xlabel(\"Epochs\",fontsize = 14)\n",
    "plt.ylabel(\"Loss(Mean Squared Error)\",fontsize = 14)\n",
    "plt.legend(fontsize = 14)\n",
    "plt.grid()\n",
    "plt.show()"
   ]
  },
  {
   "cell_type": "markdown",
   "metadata": {},
   "source": [
    "## 6.2 Training Model 2 with slightly different parameters\n",
    "-  Train-Test Split = 70:30\n",
    "-  L2_NormConst = 0.0001\n",
    "-  Optimizer = RMSProp\n",
    "-  learning_rate = 1e-4\n",
    "-  batch_size = 128\n",
    "-  Dropout Rate = 0.7\n",
    "-  Activation Unit in output layer = Arctan(tanh)"
   ]
  },
  {
   "cell_type": "markdown",
   "metadata": {},
   "source": [
    "<b>Model 2 Architecture:</b>"
   ]
  },
  {
   "cell_type": "code",
   "execution_count": 10,
   "metadata": {},
   "outputs": [],
   "source": [
    "def weight_variable(shape):\n",
    "    w_initial = tf.truncated_normal(shape, stddev = 0.1)\n",
    "    return tf.Variable(w_initial)\n",
    "\n",
    "def bias_variable(shape):\n",
    "    b_initial = tf.constant(0.1, shape = shape)\n",
    "    return tf.Variable(b_initial)\n",
    "\n",
    "def Conv2D(x, W, stride):\n",
    "    conv_layer = tf.nn.conv2d(x, W, strides = [1,stride,stride,1], padding = 'VALID')\n",
    "    return conv_layer\n",
    "\n",
    "X = tf.placeholder(tf.float32, shape = [None, 66, 200, 3])\n",
    "y = tf.placeholder(tf.float32, shape = [None, 1])\n",
    "\n",
    "#First Convolutional Layer\n",
    "W_conv1 = weight_variable([5, 5 ,3 ,24])\n",
    "b_conv1 = bias_variable([24])\n",
    "h_conv1 = tf.nn.relu(Conv2D(X, W_conv1, 2) + b_conv1)\n",
    "\n",
    "#Second Convolutional Layer\n",
    "W_conv2 = weight_variable([5, 5 ,24 ,36])\n",
    "b_conv2 = bias_variable([36])\n",
    "h_conv2 = tf.nn.relu(Conv2D(h_conv1, W_conv2, 2) + b_conv2)\n",
    "\n",
    "#Third Convolutional Layer\n",
    "W_conv3 = weight_variable([5, 5 ,36 ,48])\n",
    "b_conv3 = bias_variable([48])\n",
    "h_conv3 = tf.nn.relu(Conv2D(h_conv2, W_conv3, 2) + b_conv3)\n",
    "\n",
    "#Fourth Convolutional Layer\n",
    "W_conv4 = weight_variable([3, 3 ,48 ,64])\n",
    "b_conv4 = bias_variable([64])\n",
    "h_conv4 = tf.nn.relu(Conv2D(h_conv3, W_conv4, 1) + b_conv4)\n",
    "\n",
    "#Fifth Convolutional Layer\n",
    "W_conv5 = weight_variable([3, 3 ,64 ,64])\n",
    "b_conv5 = bias_variable([64])\n",
    "h_conv5 = tf.nn.relu(Conv2D(h_conv4, W_conv5, 1) + b_conv5)\n",
    "\n",
    "#Flattening Layer\n",
    "W_flat = weight_variable([1152,1164])\n",
    "b_flat = bias_variable([1164])\n",
    "\n",
    "h_conv5_flat = tf.reshape(h_conv5, [-1,1152])\n",
    "h_flat = tf.nn.relu(tf.matmul(h_conv5_flat, W_flat) + b_flat)\n",
    "\n",
    "keep_prob = tf.placeholder(tf.float32)\n",
    "h_flat_drop = tf.nn.dropout(h_flat, keep_prob)\n",
    "\n",
    "#First Fully Connected Layer\n",
    "W_fc1 = weight_variable([1164,100])\n",
    "b_fc1 = bias_variable([100])\n",
    "\n",
    "h_fc1 = tf.nn.relu(tf.matmul(h_flat_drop, W_fc1) + b_fc1)\n",
    "h_fc1_drop = tf.nn.dropout(h_fc1, keep_prob)\n",
    "\n",
    "#Second Fully Connected Layer\n",
    "W_fc2 = weight_variable([100,50])\n",
    "b_fc2 = bias_variable([50])\n",
    "\n",
    "h_fc2 = tf.nn.relu(tf.matmul(h_fc1_drop, W_fc2) + b_fc2)\n",
    "h_fc2_drop = tf.nn.dropout(h_fc2, keep_prob)\n",
    "\n",
    "#Third Fully Connected Layer\n",
    "W_fc3 = weight_variable([50,10])\n",
    "b_fc3 = bias_variable([10])\n",
    "\n",
    "h_fc3 = tf.nn.relu(tf.matmul(h_fc2_drop, W_fc3) + b_fc3)\n",
    "h_fc3_drop = tf.nn.dropout(h_fc3, keep_prob)\n",
    "\n",
    "#Output Layer\n",
    "W_out = weight_variable([10,1])\n",
    "b_out = bias_variable([1])\n",
    "y_pred = tf.multiply(tf.atan(tf.matmul(h_fc3_drop, W_out) + b_out),2)"
   ]
  },
  {
   "cell_type": "markdown",
   "metadata": {},
   "source": [
    "<b>Training of Model 2:</b>"
   ]
  },
  {
   "cell_type": "code",
   "execution_count": 11,
   "metadata": {
    "scrolled": true
   },
   "outputs": [
    {
     "name": "stdout",
     "output_type": "stream",
     "text": [
      "Epoch: 0, Train-Loss: : 6.06572, Test-Loss(MSE): 5.94425\n",
      "Model saved in file: D:\\Soyam\\Applied AI\\SelfDriving Car\\model2\\final_model2.ckpt\n",
      "Epoch: 1, Train-Loss: : 4.26511, Test-Loss(MSE): 4.22072\n",
      "Model saved in file: D:\\Soyam\\Applied AI\\SelfDriving Car\\model2\\final_model2.ckpt\n",
      "Epoch: 2, Train-Loss: : 3.31218, Test-Loss(MSE): 2.98863\n",
      "Model saved in file: D:\\Soyam\\Applied AI\\SelfDriving Car\\model2\\final_model2.ckpt\n",
      "Epoch: 3, Train-Loss: : 2.18373, Test-Loss(MSE): 2.24643\n",
      "Model saved in file: D:\\Soyam\\Applied AI\\SelfDriving Car\\model2\\final_model2.ckpt\n",
      "Epoch: 4, Train-Loss: : 1.91398, Test-Loss(MSE): 1.72063\n",
      "Model saved in file: D:\\Soyam\\Applied AI\\SelfDriving Car\\model2\\final_model2.ckpt\n",
      "Epoch: 5, Train-Loss: : 1.39703, Test-Loss(MSE): 1.43664\n",
      "Model saved in file: D:\\Soyam\\Applied AI\\SelfDriving Car\\model2\\final_model2.ckpt\n",
      "Epoch: 6, Train-Loss: : 1.14921, Test-Loss(MSE): 1.25339\n",
      "Model saved in file: D:\\Soyam\\Applied AI\\SelfDriving Car\\model2\\final_model2.ckpt\n",
      "Epoch: 7, Train-Loss: : 1.22544, Test-Loss(MSE): 1.19035\n",
      "Model saved in file: D:\\Soyam\\Applied AI\\SelfDriving Car\\model2\\final_model2.ckpt\n",
      "Epoch: 8, Train-Loss: : 0.898409, Test-Loss(MSE): 1.06365\n",
      "Model saved in file: D:\\Soyam\\Applied AI\\SelfDriving Car\\model2\\final_model2.ckpt\n",
      "Epoch: 9, Train-Loss: : 1.02575, Test-Loss(MSE): 1.06853\n",
      "Model saved in file: D:\\Soyam\\Applied AI\\SelfDriving Car\\model2\\final_model2.ckpt\n",
      "Epoch: 10, Train-Loss: : 0.763785, Test-Loss(MSE): 1.00996\n",
      "Model saved in file: D:\\Soyam\\Applied AI\\SelfDriving Car\\model2\\final_model2.ckpt\n",
      "Epoch: 11, Train-Loss: : 0.902851, Test-Loss(MSE): 1.00233\n",
      "Model saved in file: D:\\Soyam\\Applied AI\\SelfDriving Car\\model2\\final_model2.ckpt\n",
      "Epoch: 12, Train-Loss: : 0.731747, Test-Loss(MSE): 0.954251\n",
      "Model saved in file: D:\\Soyam\\Applied AI\\SelfDriving Car\\model2\\final_model2.ckpt\n",
      "Epoch: 13, Train-Loss: : 0.658297, Test-Loss(MSE): 0.950726\n",
      "Model saved in file: D:\\Soyam\\Applied AI\\SelfDriving Car\\model2\\final_model2.ckpt\n",
      "Epoch: 14, Train-Loss: : 0.79768, Test-Loss(MSE): 0.952165\n",
      "Model saved in file: D:\\Soyam\\Applied AI\\SelfDriving Car\\model2\\final_model2.ckpt\n",
      "Epoch: 15, Train-Loss: : 0.583406, Test-Loss(MSE): 0.962971\n",
      "Model saved in file: D:\\Soyam\\Applied AI\\SelfDriving Car\\model2\\final_model2.ckpt\n",
      "Epoch: 16, Train-Loss: : 0.730061, Test-Loss(MSE): 0.930585\n",
      "Model saved in file: D:\\Soyam\\Applied AI\\SelfDriving Car\\model2\\final_model2.ckpt\n",
      "Epoch: 17, Train-Loss: : 0.527642, Test-Loss(MSE): 0.967947\n",
      "Model saved in file: D:\\Soyam\\Applied AI\\SelfDriving Car\\model2\\final_model2.ckpt\n",
      "Epoch: 18, Train-Loss: : 0.672491, Test-Loss(MSE): 0.890497\n",
      "Model saved in file: D:\\Soyam\\Applied AI\\SelfDriving Car\\model2\\final_model2.ckpt\n",
      "Epoch: 19, Train-Loss: : 0.529607, Test-Loss(MSE): 1.01583\n",
      "Model saved in file: D:\\Soyam\\Applied AI\\SelfDriving Car\\model2\\final_model2.ckpt\n",
      "Epoch: 20, Train-Loss: : 0.50245, Test-Loss(MSE): 0.898468\n",
      "Model saved in file: D:\\Soyam\\Applied AI\\SelfDriving Car\\model2\\final_model2.ckpt\n",
      "Epoch: 21, Train-Loss: : 0.605962, Test-Loss(MSE): 1.07545\n",
      "Model saved in file: D:\\Soyam\\Applied AI\\SelfDriving Car\\model2\\final_model2.ckpt\n",
      "Epoch: 22, Train-Loss: : 0.441102, Test-Loss(MSE): 0.832937\n",
      "Model saved in file: D:\\Soyam\\Applied AI\\SelfDriving Car\\model2\\final_model2.ckpt\n",
      "Epoch: 23, Train-Loss: : 0.565175, Test-Loss(MSE): 1.05486\n",
      "Model saved in file: D:\\Soyam\\Applied AI\\SelfDriving Car\\model2\\final_model2.ckpt\n",
      "Epoch: 24, Train-Loss: : 0.426281, Test-Loss(MSE): 0.853701\n",
      "Model saved in file: D:\\Soyam\\Applied AI\\SelfDriving Car\\model2\\final_model2.ckpt\n",
      "Epoch: 25, Train-Loss: : 0.529211, Test-Loss(MSE): 0.941104\n",
      "Model saved in file: D:\\Soyam\\Applied AI\\SelfDriving Car\\model2\\final_model2.ckpt\n",
      "Epoch: 26, Train-Loss: : 0.411683, Test-Loss(MSE): 1.03901\n",
      "Model saved in file: D:\\Soyam\\Applied AI\\SelfDriving Car\\model2\\final_model2.ckpt\n",
      "Epoch: 27, Train-Loss: : 0.402069, Test-Loss(MSE): 0.896209\n",
      "Model saved in file: D:\\Soyam\\Applied AI\\SelfDriving Car\\model2\\final_model2.ckpt\n",
      "Epoch: 28, Train-Loss: : 0.501466, Test-Loss(MSE): 0.991408\n",
      "Model saved in file: D:\\Soyam\\Applied AI\\SelfDriving Car\\model2\\final_model2.ckpt\n",
      "Epoch: 29, Train-Loss: : 0.363947, Test-Loss(MSE): 0.894247\n",
      "Model saved in file: D:\\Soyam\\Applied AI\\SelfDriving Car\\model2\\final_model2.ckpt\n",
      "Time taken to train the model : 10:48:23.770422\n"
     ]
    }
   ],
   "source": [
    "warnings.filterwarnings(\"ignore\")\n",
    "\n",
    "LOGDIR = 'D:\\\\Soyam\\Applied AI\\\\SelfDriving Car\\\\model2'\n",
    "\n",
    "sess = tf.InteractiveSession()\n",
    "\n",
    "#constant for L2 Regularization\n",
    "L2_NormConst = 0.0001\n",
    "\n",
    "train_vars = tf.trainable_variables()\n",
    "\n",
    "# total-loss = mse + l2-reg\n",
    "loss = tf.reduce_mean(tf.square(tf.subtract(y,y_pred))) + tf.add_n([tf.nn.l2_loss(v) for v in train_vars]) * L2_NormConst\n",
    "\n",
    "#Learning-rate = 0.0001\n",
    "optimizer = tf.train.RMSPropOptimizer(learning_rate = 1e-4).minimize(loss)\n",
    "sess.run(tf.global_variables_initializer())\n",
    "\n",
    "saver = tf.train.Saver(write_version = saver_pb2.SaverDef.V2)\n",
    "\n",
    "\n",
    "epochs = 30\n",
    "batch_size = 128\n",
    "train_loss = []\n",
    "test_loss = []\n",
    "\n",
    "start = dt.now()\n",
    "for epoch in range(epochs):\n",
    "    train_avg_loss = 0\n",
    "    test_avg_loss = 0\n",
    "    \n",
    "    for i in range(int(len(X_images)/batch_size)):\n",
    "        \n",
    "        X_train_batch, y_train_batch = LoadTrainBatch(batch_size)\n",
    "        optimizer.run(feed_dict = {X: X_train_batch, y: y_train_batch, keep_prob: 0.7})\n",
    "        tr_loss = loss.eval(feed_dict = {X: X_train_batch, y: y_train_batch, keep_prob: 1.0})\n",
    "        train_avg_loss += (tr_loss/batch_size)\n",
    "        \n",
    "        X_test_batch, y_test_batch = LoadTestBatch(batch_size)\n",
    "        val_loss = loss.eval(feed_dict = {X: X_test_batch, y: y_test_batch, keep_prob: 1.0})\n",
    "        test_avg_loss += (val_loss/batch_size)\n",
    "        \n",
    "        if i % batch_size == 0:\n",
    "            if not os.path.exists(LOGDIR):\n",
    "                os.makedirs(LOGDIR)\n",
    "            checkpoint_path = os.path.join(LOGDIR, \"final_model2.ckpt\")\n",
    "            filename = saver.save(sess, checkpoint_path)\n",
    "            \n",
    "    print(\"Epoch: %d, Train-Loss: : %g, Test-Loss(MSE): %g\" % (epoch, train_avg_loss, test_avg_loss))\n",
    "    print(\"Model saved in file: %s\" % filename)\n",
    "    \n",
    "    train_loss.append(train_avg_loss)\n",
    "    test_loss.append(test_avg_loss)\n",
    "    \n",
    "print(\"Time taken to train the model :\",dt.now() - start)"
   ]
  },
  {
   "cell_type": "markdown",
   "metadata": {},
   "source": [
    "<b>Plot between Loss vs Epochs:</b>"
   ]
  },
  {
   "cell_type": "code",
   "execution_count": 12,
   "metadata": {},
   "outputs": [
    {
     "data": {
      "image/png": "[encoded data removed]",
      "text/plain": [
       "<Figure size 720x432 with 1 Axes>"
      ]
     },
     "metadata": {},
     "output_type": "display_data"
    }
   ],
   "source": [
    "plt.figure(figsize=(10,6))\n",
    "plt.plot(range(epochs), train_loss, 'b', label = \"Training Loss\")\n",
    "plt.plot(range(epochs), test_loss, 'r', label = \"Test Loss\")\n",
    "plt.title(\"Loss vs Epochs\",fontsize = 18, fontweight = \"bold\")\n",
    "plt.xlabel(\"Epochs\",fontsize = 14)\n",
    "plt.ylabel(\"Loss(Mean Squared Error)\",fontsize = 14)\n",
    "plt.legend(fontsize = 14)\n",
    "plt.grid()\n",
    "plt.show()"
   ]
  },
  {
   "cell_type": "markdown",
   "metadata": {},
   "source": [
    "# 7. TEST AND VISUALISE THE OUTPUT"
   ]
  },
  {
   "cell_type": "code",
   "execution_count": null,
   "metadata": {
    "scrolled": false
   },
   "outputs": [],
   "source": [
    "# warnings.filterwarnings(\"ignore\")\n",
    "\n",
    "sess = tf.InteractiveSession()\n",
    "saver = tf.train.Saver()\n",
    "saver.restore(sess, \"D:\\\\Soyam\\Applied AI\\\\SelfDriving Car\\\\model2\\\\final_model2.ckpt\")\n",
    "\n",
    "img = cv2.imread('steering_wheel_image.jpg',0)\n",
    "rows,cols = img.shape\n",
    "smoothed_angle = 0\n",
    "\n",
    "i = math.ceil(len(X_images)*0.2)\n",
    "print(\"Starting frameofvideo:\" +str(i))\n",
    "\n",
    "while(cv2.waitKey(10) != ord('q')):\n",
    "    full_image = sc.misc.imread(DATA_FOLDER + str(i) + \".jpg\", mode=\"RGB\")\n",
    "    image = sc.misc.imresize(full_image[-150:], [66, 200]) / 255.0\n",
    "    degrees = y_pred.eval(feed_dict={X: [image], keep_prob: 1.0})[0][0] * 180.0 / sc.pi\n",
    "\n",
    "    \n",
    "    print(\"Steering angle: \" + str(degrees) + \" (pred)\\t\" + str(Y_strangles[i]*180/sc.pi) + \" (actual)\")\n",
    "    cv2.imshow(\"frame\", cv2.cvtColor(full_image, cv2.COLOR_RGB2BGR))\n",
    "    \n",
    "    #make smooth angle transitions by turning the steering wheel based on the difference of the current angle\n",
    "    #and the predicted angle\n",
    "    smoothed_angle += 0.2 * pow(abs((degrees - smoothed_angle)), 2.0 / 3.0) * (degrees - smoothed_angle) / abs(degrees - smoothed_angle)\n",
    "    M = cv2.getRotationMatrix2D((cols/2,rows/2),-smoothed_angle,1)\n",
    "    dst = cv2.warpAffine(img,M,(cols,rows))\n",
    "    cv2.imshow(\"steering wheel\", dst)\n",
    "    i += 1\n",
    "\n",
    "cv2.destroyAllWindows()"
   ]
  },
  {
   "cell_type": "markdown",
   "metadata": {},
   "source": [
    "<b>NOTE :</b> The above code is run to visualize the rotation of steering angles and the recoding is shared."
   ]
  },
  {
   "cell_type": "markdown",
   "metadata": {},
   "source": [
    "# 8. CONCLUSION"
   ]
  },
  {
   "cell_type": "markdown",
   "metadata": {},
   "source": [
    "## 8.1 Steps Followed\n",
    "-  Data Images are loaded and some basis statistics about the data is observed.\n",
    "-  Data is divided to train and test in 70-30 ratio.\n",
    "-  Exploaratory data analysis on Distribution of Steering angles is observed for both train and test.\n",
    "-  Batch Loading of dataset is done to train the model in batches.\n",
    "-  Our model is build following the same architecture of <b>NVIDEA's End-End CNN Deep Learning Model</b> with some tweaks in parameters.\n",
    "-  Model is trained and test loss is plotted wrt epochs.\n",
    "-  Test outputs is visualised by seeing how much the steering angle moves with the images of roads."
   ]
  },
  {
   "cell_type": "markdown",
   "metadata": {},
   "source": [
    "## 8.2 Model Performance\n",
    "\n",
    "| DL Model |  <b>BatchSize</b> | <b>Train-Test Split</b> | <b>Output Layer Activation Unit</b> | <b>Droput rate</b> | <b>Learning Rate</b> | <b>Test MSE</b> |\n",
    "| --- | --- | --- | --- | --- | --- |  --- |\n",
    "| <b>NVIDEA End-End CNN Model</b> | 100 | 70:30 | Linear(Identity) | 0.5  | (ADAM)0.001  | 1.055 |\n",
    "| <b>NVIDEA End-End CNN Model</b> | 128 | 70:30 | Arctan | 0.7  | (RMSprop)0.0001  | 0.88 |\n",
    "\n",
    "-  Steering angle doesnot move at all with linear activation unit while visualising the outputs ie for every images it gives a constant steering angle of 1.759 degrees.(can be said as a dumb car as it goes only with one steering angle throughout).\n",
    "-  <b>Model performs well when we take 'arctan' instead of 'linear' as activation unit in output Layer.We could observe steering angle being rotated where there is sharp turns in road.</b>"
   ]
  }
 ],
 "metadata": {
  "kernelspec": {
   "display_name": "Python 3",
   "language": "python",
   "name": "python3"
  },
  "language_info": {
   "codemirror_mode": {
    "name": "ipython",
    "version": 3
   },
   "file_extension": ".py",
   "mimetype": "text/x-python",
   "name": "python",
   "nbconvert_exporter": "python",
   "pygments_lexer": "ipython3",
   "version": "3.6.5"
  }
 },
 "nbformat": 4,
 "nbformat_minor": 2
}
